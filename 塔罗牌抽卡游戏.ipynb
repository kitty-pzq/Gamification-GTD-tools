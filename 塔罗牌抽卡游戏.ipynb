{
 "cells": [
  {
   "cell_type": "markdown",
   "metadata": {},
   "source": [
    "游戏说明：每完成一个番茄钟就抽一张卡，灰常沙雕o(*￣︶￣*)o"
   ]
  },
  {
   "cell_type": "code",
   "execution_count": 1,
   "metadata": {
    "ExecuteTime": {
     "end_time": "2020-01-19T02:10:23.249766Z",
     "start_time": "2020-01-19T02:10:23.216853Z"
    }
   },
   "outputs": [],
   "source": [
    "import random\n",
    "from collections import Counter\n",
    "\n",
    "class Chouka_Tarot:\n",
    "    \"\"\"\n",
    "    单抽输入k=1，十连抽输入k=10。抽多少次请输入times=正整数。十连必出SR！\n",
    "    my_cards=已有卡牌,my_sands=已有流沙\n",
    "    \"\"\"\n",
    "    \n",
    "    tarot_cards_n=[\"N权杖首牌\",\"N权杖二\",\"N权杖三\",\"N权杖四\",\"N权杖五\",\"N权杖六\",\"N权杖七\",\"N权杖八\",\"N权杖九\",\"N权杖十\",\n",
    "                   \"N星币首牌\",\"N星币二\",\"N星币三\",\"N星币四\",\"N星币五\",\"N星币六\",\"N星币七\",\"N星币八\",\"N星币九\",\"N星币十\",\n",
    "                   \"N宝剑首牌\",\"N宝剑二\",\"N宝剑三\",\"N宝剑四\",\"N宝剑五\",\"N宝剑六\",\"N宝剑七\",\"N宝剑八\",\"N宝剑九\",\"N宝剑十\",\n",
    "                   \"N圣杯首牌\",\"N圣杯二\",\"N圣杯三\",\"N圣杯四\",\"N圣杯五\",\"N圣杯六\",\"N圣杯七\",\"N圣杯八\",\"N圣杯九\",\"N圣杯十\",]\n",
    "    tarot_cards_r=[\"R权杖侍从\",\"R权杖骑士\",\"R权杖王后\",\"R权杖国王\",\"R星币侍从\",\"R星币骑士\",\"R星币王后\",\"R星币国王\",\n",
    "                   \"R宝剑侍从\",\"R宝剑骑士\",\"R宝剑王后\",\"R宝剑国王\",\"R圣杯侍从\",\"R圣杯骑士\",\"R圣杯王后\",\"R圣杯国王\"]\n",
    "    tarot_cards_sr=[\"SR魔术师\",\"SR女祭司\",\"SR皇后\",\"SR皇帝\",\"SR教主\",\"SR情侣\",\"SR战车\",\"SR力量\",\n",
    "                    \"SR隐士\",\"SR命运之轮\",\"SR正义\",\"SR吊人\",\"SR死神\",\"SR节制\",\"SR魔鬼\",\"SR高塔\",]\n",
    "    tarot_cards_ssr=[\"SSR愚人\",\"SSR星辰\",\"SSR月亮\",\"SSR太阳\",\"SSR审判\",\"SSR世界\"]\n",
    "    \n",
    "    tarot_cards_all=tarot_cards_ssr + tarot_cards_sr + tarot_cards_r + tarot_cards_n\n",
    "    \n",
    "    def __init__(self,k=1,times=1,my_cards=[],my_sands=0):\n",
    "        self.k=k\n",
    "        self.times=times\n",
    "        self.drawn_cards=self.chouka()\n",
    "        print(type(self.drawn_cards))\n",
    "        self.my_cards=my_cards\n",
    "        self.my_sands=my_sands\n",
    "        self.new_cards=[]\n",
    "        self.repeated_cards=[]\n",
    "        \n",
    "        for x in self.drawn_cards:\n",
    "            if x not in self.my_cards:\n",
    "                self.new_cards.append(x)\n",
    "            if x in self.my_cards:\n",
    "                self.repeated_cards.append(x)\n",
    "        self.my_cards+=list(set(self.new_cards))\n",
    "        self.new_cards_counts = Counter(self.new_cards)\n",
    "        self.repeated_cards_counts = Counter(self.repeated_cards)\n",
    "        self.drawn_cards_counts=Counter(self.drawn_cards)\n",
    "        print(\"抽到的新卡牌为{}，\\n抽到的重复卡牌为{}\".format(self.new_cards_counts,self.repeated_cards_counts))\n",
    "        \n",
    "        for key in self.repeated_cards_counts.keys():\n",
    "            if key in self.tarot_cards_n:\n",
    "                self.my_sands += self.repeated_cards_counts[key]*5\n",
    "            elif key in self.tarot_cards_r:\n",
    "                self.my_sands += self.repeated_cards_counts[key]*10\n",
    "            elif key in self.tarot_cards_sr:\n",
    "                self.my_sands += self.repeated_cards_counts[key]*20\n",
    "            elif key in self.tarot_cards_ssr:\n",
    "                self.my_sands += self.repeated_cards_counts[key]*40\n",
    "        for key in self.new_cards_counts.keys():\n",
    "            if key in self.tarot_cards_n:\n",
    "                self.my_sands += (self.new_cards_counts[key]-1)*5\n",
    "            elif key in self.tarot_cards_r:\n",
    "                self.my_sands += (self.new_cards_counts[key]-1)*10\n",
    "            elif key in self.tarot_cards_sr:\n",
    "                self.my_sands += (self.new_cards_counts[key]-1)*20\n",
    "            elif key in self.tarot_cards_ssr:\n",
    "                self.my_sands += (self.new_cards_counts[key]-1)*40\n",
    "        print(\"当前拥有的卡牌为{}，\\n当前拥有的流沙为{}\".format(self.my_cards,self.my_sands))\n",
    "        print(\"当前未拥有的卡牌为{}\".format(list(set(self.tarot_cards_all)-set(self.my_cards))))\n",
    "        \n",
    "      \n",
    "    def chouka(self):\n",
    "    \n",
    "        p_ssr = 0.0025\n",
    "        p_sr = 0.01\n",
    "        p_r = 0.20\n",
    "        p_n = 0.7875\n",
    "    \n",
    "        w1 = p_ssr/6\n",
    "        w2 = p_sr/16\n",
    "        w3 = p_r/16\n",
    "        w4 = p_n/40\n",
    "        \n",
    "        weights=[w1]*6+[w2]*16+[w3]*16+[w4]*40\n",
    "        weights_sr=[1]*16\n",
    "        \n",
    "        drawn_cards=[]\n",
    "        \n",
    "        if self.times == 1:\n",
    "            if self.k ==1:\n",
    "                drawn_cards = random.choices(self.tarot_cards_all,weights=weights,k=self.k)        \n",
    "            elif self.k==10:\n",
    "                c1 = random.choices(self.tarot_cards_all,weights=weights,k=self.k-1)\n",
    "                c2 = random.choices(self.tarot_cards_sr,weights=weights_sr,k=1)\n",
    "                drawn_cards=c1 + c2\n",
    "        \n",
    "        elif self.times >1 and type(self.times)==int:\n",
    "            if self.k==1:\n",
    "                drawn_cards = random.choices(self.tarot_cards_all,weights=weights,k=self.k*self.times)\n",
    "            elif self.k==10:\n",
    "                c3 = random.choices(self.tarot_cards_all,weights=weights,k=(self.k-1)*self.times)\n",
    "                c4 = random.choices(self.tarot_cards_sr,weights=weights_sr,k=1*self.times)\n",
    "                drawn_cards=c3 + c4\n",
    "                \n",
    "        else:\n",
    "            print(\"单抽输入k=1，十连抽输入k=10。抽多少次请输入times=正整数。十连必出SR！！\")\n",
    "            \n",
    "        return drawn_cards\n",
    "        "
   ]
  },
  {
   "cell_type": "code",
   "execution_count": 2,
   "metadata": {
    "ExecuteTime": {
     "end_time": "2020-01-19T02:10:27.500723Z",
     "start_time": "2020-01-19T02:10:27.492746Z"
    }
   },
   "outputs": [],
   "source": [
    "my_card_recorded=[\"N权杖首牌\",\"N权杖二\",\"N权杖三\",\"N权杖四\",\"N权杖五\",\"N权杖六\",\"N权杖七\",\"N权杖八\",\"N权杖九\",\"N权杖十\",\n",
    "                    \"N星币首牌\",\"N星币二\",\"N星币三\",\"N星币四\",\"N星币五\",\"N星币六\",\"N星币七\",\"N星币八\",\"N星币九\",\"N星币十\",\n",
    "                    \"N宝剑首牌\",\"N宝剑二\",\"N宝剑三\",\"N宝剑四\",\"N宝剑五\",\"N宝剑六\",\"N宝剑七\",\"N宝剑八\",\"N宝剑九\",\"N宝剑十\",\n",
    "                    \"N圣杯首牌\",\"N圣杯二\",\"N圣杯三\",\"N圣杯四\",\"N圣杯五\",\"N圣杯六\",\"N圣杯七\",\"N圣杯八\",\"N圣杯九\",\"N圣杯十\",\n",
    "                    \"R权杖侍从\",\"R权杖骑士\",\"R权杖王后\",\"R权杖国王\",\"R星币侍从\",\"R星币骑士\",\"R星币王后\",\"R星币国王\",\n",
    "                    \"R宝剑侍从\",\"R宝剑骑士\",\"R宝剑王后\",\"R宝剑国王\",\"R圣杯侍从\",\"R圣杯骑士\",\"R圣杯王后\",\"R圣杯国王\",\n",
    "                    \"SR魔术师\",\"SR女祭司\",\"SR皇后\",\"SR皇帝\",\"SR教主\",\"SR情侣\",\"SR战车\",\"SR力量\",\n",
    "                    \"SR隐士\",\"SR命运之轮\",\"SR正义\",\"SR吊人\",\"SR死神\",\"SR节制\",\"SR魔鬼\",\"SR高塔\",\n",
    "                    \"SSR星辰\",\"SSR太阳\",\"SSR审判\"]"
   ]
  },
  {
   "cell_type": "code",
   "execution_count": 3,
   "metadata": {
    "ExecuteTime": {
     "end_time": "2020-01-19T02:10:28.929098Z",
     "start_time": "2020-01-19T02:10:28.925120Z"
    }
   },
   "outputs": [],
   "source": [
    "my_sands_recorded=0"
   ]
  },
  {
   "cell_type": "code",
   "execution_count": 4,
   "metadata": {
    "ExecuteTime": {
     "end_time": "2020-01-19T02:10:29.829316Z",
     "start_time": "2020-01-19T02:10:29.823331Z"
    },
    "scrolled": true
   },
   "outputs": [
    {
     "name": "stdout",
     "output_type": "stream",
     "text": [
      "<class 'list'>\n",
      "抽到的新卡牌为Counter()，\n",
      "抽到的重复卡牌为Counter({'N星币十': 2, 'N宝剑五': 1, 'N宝剑四': 1, 'R星币王后': 1, 'N星币四': 1, 'N权杖六': 1, 'R圣杯骑士': 1, 'N圣杯四': 1, 'SR皇后': 1})\n",
      "当前拥有的卡牌为['N权杖首牌', 'N权杖二', 'N权杖三', 'N权杖四', 'N权杖五', 'N权杖六', 'N权杖七', 'N权杖八', 'N权杖九', 'N权杖十', 'N星币首牌', 'N星币二', 'N星币三', 'N星币四', 'N星币五', 'N星币六', 'N星币七', 'N星币八', 'N星币九', 'N星币十', 'N宝剑首牌', 'N宝剑二', 'N宝剑三', 'N宝剑四', 'N宝剑五', 'N宝剑六', 'N宝剑七', 'N宝剑八', 'N宝剑九', 'N宝剑十', 'N圣杯首牌', 'N圣杯二', 'N圣杯三', 'N圣杯四', 'N圣杯五', 'N圣杯六', 'N圣杯七', 'N圣杯八', 'N圣杯九', 'N圣杯十', 'R权杖侍从', 'R权杖骑士', 'R权杖王后', 'R权杖国王', 'R星币侍从', 'R星币骑士', 'R星币王后', 'R星币国王', 'R宝剑侍从', 'R宝剑骑士', 'R宝剑王后', 'R宝剑国王', 'R圣杯侍从', 'R圣杯骑士', 'R圣杯王后', 'R圣杯国王', 'SR魔术师', 'SR女祭司', 'SR皇后', 'SR皇帝', 'SR教主', 'SR情侣', 'SR战车', 'SR力量', 'SR隐士', 'SR命运之轮', 'SR正义', 'SR吊人', 'SR死神', 'SR节制', 'SR魔鬼', 'SR高塔', 'SSR星辰', 'SSR太阳', 'SSR审判']，\n",
      "当前拥有的流沙为75\n",
      "当前未拥有的卡牌为['SSR月亮', 'SSR愚人', 'SSR世界']\n"
     ]
    }
   ],
   "source": [
    "#抽卡\n",
    "c = Chouka_Tarot(k=10,times=1,my_cards=my_card_recorded,my_sands=my_sands_recorded)"
   ]
  },
  {
   "cell_type": "code",
   "execution_count": null,
   "metadata": {},
   "outputs": [],
   "source": []
  }
 ],
 "metadata": {
  "kernelspec": {
   "display_name": "Python 3",
   "language": "python",
   "name": "python3"
  },
  "language_info": {
   "codemirror_mode": {
    "name": "ipython",
    "version": 3
   },
   "file_extension": ".py",
   "mimetype": "text/x-python",
   "name": "python",
   "nbconvert_exporter": "python",
   "pygments_lexer": "ipython3",
   "version": "3.7.3"
  },
  "toc": {
   "base_numbering": 1,
   "nav_menu": {},
   "number_sections": false,
   "sideBar": true,
   "skip_h1_title": false,
   "title_cell": "Table of Contents",
   "title_sidebar": "Contents",
   "toc_cell": false,
   "toc_position": {},
   "toc_section_display": true,
   "toc_window_display": false
  },
  "varInspector": {
   "cols": {
    "lenName": 16,
    "lenType": 16,
    "lenVar": 40
   },
   "kernels_config": {
    "python": {
     "delete_cmd_postfix": "",
     "delete_cmd_prefix": "del ",
     "library": "var_list.py",
     "varRefreshCmd": "print(var_dic_list())"
    },
    "r": {
     "delete_cmd_postfix": ") ",
     "delete_cmd_prefix": "rm(",
     "library": "var_list.r",
     "varRefreshCmd": "cat(var_dic_list()) "
    }
   },
   "types_to_exclude": [
    "module",
    "function",
    "builtin_function_or_method",
    "instance",
    "_Feature"
   ],
   "window_display": false
  }
 },
 "nbformat": 4,
 "nbformat_minor": 2
}
