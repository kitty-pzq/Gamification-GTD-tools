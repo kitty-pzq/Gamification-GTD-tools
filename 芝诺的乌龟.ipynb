{
 "cells": [
  {
   "cell_type": "code",
   "execution_count": 1,
   "metadata": {
    "ExecuteTime": {
     "end_time": "2020-01-19T01:41:33.985258Z",
     "start_time": "2020-01-19T01:41:33.980271Z"
    }
   },
   "outputs": [],
   "source": [
    "import numpy as np"
   ]
  },
  {
   "cell_type": "code",
   "execution_count": 2,
   "metadata": {
    "ExecuteTime": {
     "end_time": "2020-01-19T01:41:47.087984Z",
     "start_time": "2020-01-19T01:41:47.077015Z"
    }
   },
   "outputs": [],
   "source": [
    "def Zeno_Tortoise(book_pages=100,read_pages=0,m=3,n=3,unit='page'):\n",
    "    '''\n",
    "    函数功能：\n",
    "    用来设定读书计划。\n",
    "    阿基里斯让乌龟先跑。乌龟每行进剩余距离的1/m，阿基里斯行进乌龟行进距离的1/n。阿基里斯能追上乌龟吗？\n",
    "    \n",
    "    参数:\n",
    "    book_pages: 要读的书的页数。默认值为100时，可以当做百分比。\n",
    "    read_pages: 已经读完的页数。默认值为0。\n",
    "    slice_num_t: 乌龟每次任务分成的份数。默认值为3。\n",
    "    slice_num_a: 阿基里斯每次任务分成的份数。默认值为3。\n",
    "    '''\n",
    "    if read_pages == book_pages:\n",
    "        print('恭喜阿基里斯和乌龟都已经到达了终点！开始阅读下一本书吧！')\n",
    "    else:\n",
    "        book = np.arange(1,book_pages+1)\n",
    "        task = np.arange(read_pages+1,book_pages+1)\n",
    "        tortoise = len(task)//m\n",
    "        Achilles = tortoise//n\n",
    "        \n",
    "        if len(task)<=m*n:       \n",
    "            Achilles = len(task)\n",
    "            print('快到终点了，阿基里斯要加油全力以赴冲向终点鸭！')\n",
    "        \n",
    "        if read_pages>=book[read_pages+tortoise-1]:\n",
    "            print('阿基里斯已经追上乌龟了！')\n",
    "    \n",
    "        \n",
    "        if unit == 'page':\n",
    "            print(\"乌龟在第{}页等待阿基里斯\".format(book[read_pages+tortoise-1]))\n",
    "            print(\"阿基里斯本次计划从第{}页读到第{}页\".format(read_pages+1,book[read_pages+Achilles-1]))\n",
    "        elif unit == 'line':\n",
    "            print(\"乌龟在第{}行等待阿基里斯\".format(book[read_pages+tortoise-1]))\n",
    "            print(\"阿基里斯本次计划从第{}行读到第{}行\".format(read_pages+1,book[read_pages+Achilles-1]))\n",
    "        elif unit == 'percent':\n",
    "            print(\"乌龟在{}%等待阿基里斯\".format(book[read_pages+tortoise-1]))\n",
    "            print(\"阿基里斯本次计划从{}%读到{}%\".format(read_pages,book[read_pages+Achilles-1]))"
   ]
  },
  {
   "cell_type": "code",
   "execution_count": 4,
   "metadata": {
    "ExecuteTime": {
     "end_time": "2020-01-19T01:42:31.806936Z",
     "start_time": "2020-01-19T01:42:31.802930Z"
    }
   },
   "outputs": [
    {
     "name": "stdout",
     "output_type": "stream",
     "text": [
      "乌龟在第42页等待阿基里斯\n",
      "阿基里斯本次计划从第15页读到第23页\n"
     ]
    }
   ],
   "source": [
    "Zeno_Tortoise(book_pages=100,read_pages=14,m=3,n=3,unit='page')"
   ]
  },
  {
   "cell_type": "code",
   "execution_count": null,
   "metadata": {},
   "outputs": [],
   "source": []
  }
 ],
 "metadata": {
  "kernelspec": {
   "display_name": "Python 3",
   "language": "python",
   "name": "python3"
  },
  "language_info": {
   "codemirror_mode": {
    "name": "ipython",
    "version": 3
   },
   "file_extension": ".py",
   "mimetype": "text/x-python",
   "name": "python",
   "nbconvert_exporter": "python",
   "pygments_lexer": "ipython3",
   "version": "3.7.3"
  },
  "toc": {
   "base_numbering": 1,
   "nav_menu": {},
   "number_sections": false,
   "sideBar": true,
   "skip_h1_title": false,
   "title_cell": "Table of Contents",
   "title_sidebar": "Contents",
   "toc_cell": false,
   "toc_position": {},
   "toc_section_display": true,
   "toc_window_display": false
  },
  "varInspector": {
   "cols": {
    "lenName": 16,
    "lenType": 16,
    "lenVar": 40
   },
   "kernels_config": {
    "python": {
     "delete_cmd_postfix": "",
     "delete_cmd_prefix": "del ",
     "library": "var_list.py",
     "varRefreshCmd": "print(var_dic_list())"
    },
    "r": {
     "delete_cmd_postfix": ") ",
     "delete_cmd_prefix": "rm(",
     "library": "var_list.r",
     "varRefreshCmd": "cat(var_dic_list()) "
    }
   },
   "types_to_exclude": [
    "module",
    "function",
    "builtin_function_or_method",
    "instance",
    "_Feature"
   ],
   "window_display": false
  }
 },
 "nbformat": 4,
 "nbformat_minor": 2
}
